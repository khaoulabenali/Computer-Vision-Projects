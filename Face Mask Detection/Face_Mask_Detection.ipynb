{
 "cells": [
  {
   "cell_type": "markdown",
   "id": "ea9e1936",
   "metadata": {},
   "source": [
    "# 0. Details that you don't need :p "
   ]
  },
  {
   "cell_type": "markdown",
   "id": "8251c61f",
   "metadata": {},
   "source": [
    "* This project aims to detect wether a person is wearing a face mask or not using a convolutional neural network added to a pretrained model which is MobileNetV2."
   ]
  },
  {
   "cell_type": "markdown",
   "id": "f10a9e6b",
   "metadata": {},
   "source": [
    "* This work is done by me khaoula benali and here is my mail : khaoula.benali@ensi-uma.tn .I can't wait for your feedbacks :)"
   ]
  },
  {
   "cell_type": "markdown",
   "id": "6ffeb1a6",
   "metadata": {},
   "source": [
    "# 1. Importing the necessary libraries :"
   ]
  },
  {
   "cell_type": "code",
   "execution_count": 1,
   "id": "0a062ee2",
   "metadata": {},
   "outputs": [],
   "source": [
    "from tensorflow.keras.preprocessing.image import ImageDataGenerator\n",
    "from tensorflow.keras.applications import MobileNetV2\n",
    "from tensorflow.keras.layers import AveragePooling2D\n",
    "from tensorflow.keras.layers import Dropout\n",
    "from tensorflow.keras.layers import Flatten\n",
    "from tensorflow.keras.layers import Dense\n",
    "from tensorflow.keras.layers import Input\n",
    "from tensorflow.keras.models import Model\n",
    "from tensorflow.keras.optimizers import Adam\n",
    "from tensorflow.keras.applications.mobilenet_v2 import preprocess_input\n",
    "from tensorflow.keras.preprocessing.image import img_to_array\n",
    "from tensorflow.keras.preprocessing.image import load_img\n",
    "from tensorflow.keras.models import load_model\n",
    "from tensorflow.keras.utils import to_categorical\n",
    "from sklearn.preprocessing import LabelBinarizer\n",
    "from sklearn.model_selection import train_test_split\n",
    "from sklearn.metrics import classification_report\n",
    "import matplotlib.pyplot as plt\n",
    "from imutils import paths\n",
    "from imutils.video import videostream\n",
    "import numpy as np\n",
    "import os\n",
    "import time\n",
    "import cv2"
   ]
  },
  {
   "cell_type": "markdown",
   "id": "b2fa06f8",
   "metadata": {},
   "source": [
    "# 2. Loading the dataset :"
   ]
  },
  {
   "cell_type": "code",
   "execution_count": 2,
   "id": "f1d7e2e7",
   "metadata": {},
   "outputs": [
    {
     "name": "stdout",
     "output_type": "stream",
     "text": [
      "[INFO] loading images...\n"
     ]
    }
   ],
   "source": [
    "DIRECTORY= r\"C:/Users/khaoula/Desktop/Face Mask Detection/dataset\"\n",
    "CATEGORIES=[\"with_mask\",\"without_mask\"]\n",
    "print(\"[INFO] loading images...\")"
   ]
  },
  {
   "cell_type": "markdown",
   "id": "a0198293",
   "metadata": {},
   "source": [
    "# 3. Data Preprocessing : "
   ]
  },
  {
   "cell_type": "markdown",
   "id": "82748060",
   "metadata": {},
   "source": [
    "* Labeling images :"
   ]
  },
  {
   "cell_type": "code",
   "execution_count": 3,
   "id": "2245a63d",
   "metadata": {},
   "outputs": [
    {
     "name": "stderr",
     "output_type": "stream",
     "text": [
      "C:\\Users\\khaoula\\anaconda3\\lib\\site-packages\\PIL\\Image.py:962: UserWarning: Palette images with Transparency expressed in bytes should be converted to RGBA images\n",
      "  warnings.warn(\n"
     ]
    }
   ],
   "source": [
    "data=[]\n",
    "labels=[]\n",
    "for category in CATEGORIES:\n",
    "    path=os.path.join(DIRECTORY,category)\n",
    "    for img in os.listdir(path):\n",
    "        img_path=os.path.join(path,img)\n",
    "        image=load_img(img_path,target_size=(224,224))\n",
    "        image=img_to_array(image)\n",
    "        image=preprocess_input(image)\n",
    "        data.append(image)\n",
    "        labels.append(category)"
   ]
  },
  {
   "cell_type": "markdown",
   "id": "7a83de6c",
   "metadata": {},
   "source": [
    "* Encoding the Labels :"
   ]
  },
  {
   "cell_type": "code",
   "execution_count": 4,
   "id": "bc859a3b",
   "metadata": {},
   "outputs": [],
   "source": [
    "lb=LabelBinarizer()\n",
    "labels=lb.fit_transform(labels)\n",
    "labels=to_categorical(labels)\n"
   ]
  },
  {
   "cell_type": "markdown",
   "id": "7c32ade4",
   "metadata": {},
   "source": [
    "* Converting data into numpy arrays (models only work on numpy arrays)"
   ]
  },
  {
   "cell_type": "code",
   "execution_count": 5,
   "id": "5ca9889d",
   "metadata": {},
   "outputs": [],
   "source": [
    "data=np.array(data,dtype=\"float32\")\n",
    "labels=np.array(labels)"
   ]
  },
  {
   "cell_type": "markdown",
   "id": "5c242d0a",
   "metadata": {},
   "source": [
    "* Deviding data into training and testing data :"
   ]
  },
  {
   "cell_type": "code",
   "execution_count": 6,
   "id": "b28bf26d",
   "metadata": {},
   "outputs": [],
   "source": [
    "(trainX,testX,trainy,testy)=train_test_split(data,labels,test_size=0.2,stratify=labels,random_state=42)"
   ]
  },
  {
   "cell_type": "markdown",
   "id": "4472cc03",
   "metadata": {},
   "source": [
    "* That's it for the preprocessing.And now let's start the training."
   ]
  },
  {
   "cell_type": "markdown",
   "id": "13de29bf",
   "metadata": {},
   "source": [
    "# 4. Training :"
   ]
  },
  {
   "cell_type": "markdown",
   "id": "3afaad4b",
   "metadata": {},
   "source": [
    "We are going here to use a CNN but instead of the head layer we are going to use the mobilenetv2 and than create a fully connected layer for the top of the model"
   ]
  },
  {
   "cell_type": "markdown",
   "id": "6d2c0c78",
   "metadata": {},
   "source": [
    "The model is going to be MobileNetv2 + Fully Connected Model "
   ]
  },
  {
   "cell_type": "markdown",
   "id": "9b460bab",
   "metadata": {},
   "source": [
    "* Initializing the learning rate and number of epochs and batch size"
   ]
  },
  {
   "cell_type": "code",
   "execution_count": 7,
   "id": "603d3fd5",
   "metadata": {},
   "outputs": [],
   "source": [
    "INIT_LR=1e-4\n",
    "EPOCHS=20\n",
    "BS=32"
   ]
  },
  {
   "cell_type": "markdown",
   "id": "cab33ad3",
   "metadata": {},
   "source": [
    "* Constructing many training images from a single image using ImageDataGenerator :"
   ]
  },
  {
   "cell_type": "code",
   "execution_count": 8,
   "id": "a88a6292",
   "metadata": {},
   "outputs": [],
   "source": [
    "aug = ImageDataGenerator(rotation_range=20,\n",
    "                         zoom_range=0.15,\n",
    "                         width_shift_range=0.2,\n",
    "                         height_shift_range=0.2,\n",
    "                         shear_range=0.15,\n",
    "                         horizontal_flip=True,\n",
    "                         fill_mode='nearest')"
   ]
  },
  {
   "cell_type": "markdown",
   "id": "06adaaf4",
   "metadata": {},
   "source": [
    "* Loading the MobileNetV2 Model :"
   ]
  },
  {
   "cell_type": "code",
   "execution_count": 9,
   "id": "9c3fef0b",
   "metadata": {},
   "outputs": [
    {
     "name": "stdout",
     "output_type": "stream",
     "text": [
      "WARNING:tensorflow:`input_shape` is undefined or non-square, or `rows` is not in [96, 128, 160, 192, 224]. Weights for input shape (224, 224) will be loaded as the default.\n"
     ]
    }
   ],
   "source": [
    "baseModel=MobileNetV2(weights=\"imagenet\",include_top=False,input_tensor=Input(shape=(224,224,3)))"
   ]
  },
  {
   "cell_type": "markdown",
   "id": "011ea1cd",
   "metadata": {},
   "source": [
    "* Constructing a fully connected layer that will be placed on the top of the model"
   ]
  },
  {
   "cell_type": "code",
   "execution_count": 10,
   "id": "55e1d84d",
   "metadata": {},
   "outputs": [],
   "source": [
    "headModel=baseModel.output\n",
    "headModel=AveragePooling2D(pool_size=(7,7))(headModel)\n",
    "headModel=Flatten(name='flatten')(headModel)\n",
    "headModel=Dense(128,activation='relu')(headModel)\n",
    "headModel=Dropout(0.5)(headModel)\n",
    "headModel=Dense(2,activation=\"softmax\")(headModel)"
   ]
  },
  {
   "cell_type": "markdown",
   "id": "a8538472",
   "metadata": {},
   "source": [
    "* Place the head fully connected model on the top of the base model"
   ]
  },
  {
   "cell_type": "code",
   "execution_count": 11,
   "id": "e43d520f",
   "metadata": {},
   "outputs": [],
   "source": [
    "model=Model(inputs=baseModel.input,outputs=headModel)"
   ]
  },
  {
   "cell_type": "markdown",
   "id": "0f17054d",
   "metadata": {},
   "source": [
    "* MobileNetV2 is an already trained models so we need the weights to stay as they are that's why we are going to freeze them that they don't chane when we train the whole model"
   ]
  },
  {
   "cell_type": "code",
   "execution_count": 12,
   "id": "8339dc4f",
   "metadata": {},
   "outputs": [],
   "source": [
    "for layer in baseModel.layers:\n",
    "    layer.trainable=False"
   ]
  },
  {
   "cell_type": "markdown",
   "id": "864abda3",
   "metadata": {},
   "source": [
    "* Compiling the model :"
   ]
  },
  {
   "cell_type": "code",
   "execution_count": 13,
   "id": "cd13ec6c",
   "metadata": {},
   "outputs": [
    {
     "name": "stdout",
     "output_type": "stream",
     "text": [
      "[iNFO] compiling model...\n"
     ]
    }
   ],
   "source": [
    "print(\"[iNFO] compiling model...\")\n",
    "opt=Adam(learning_rate=INIT_LR,decay=INIT_LR/EPOCHS)\n",
    "model.compile(loss='binary_crossentropy',optimizer=opt,metrics=[\"accuracy\"])"
   ]
  },
  {
   "cell_type": "markdown",
   "id": "ba8ff016",
   "metadata": {},
   "source": [
    "* Training the head of the Network :"
   ]
  },
  {
   "cell_type": "code",
   "execution_count": 14,
   "id": "b1a4a58e",
   "metadata": {},
   "outputs": [
    {
     "name": "stdout",
     "output_type": "stream",
     "text": [
      "[INFO] ttraining head...\n",
      "Epoch 1/20\n",
      "95/95 [==============================] - 141s 1s/step - loss: 0.4085 - accuracy: 0.8734 - val_loss: 0.1506 - val_accuracy: 0.9857\n",
      "Epoch 2/20\n",
      "95/95 [==============================] - 123s 1s/step - loss: 0.1584 - accuracy: 0.9621 - val_loss: 0.0750 - val_accuracy: 0.9922\n",
      "Epoch 3/20\n",
      "95/95 [==============================] - 124s 1s/step - loss: 0.1054 - accuracy: 0.9733 - val_loss: 0.0537 - val_accuracy: 0.9935\n",
      "Epoch 4/20\n",
      "95/95 [==============================] - 123s 1s/step - loss: 0.0818 - accuracy: 0.9782 - val_loss: 0.0465 - val_accuracy: 0.9909\n",
      "Epoch 5/20\n",
      "95/95 [==============================] - 120s 1s/step - loss: 0.0687 - accuracy: 0.9819 - val_loss: 0.0440 - val_accuracy: 0.9922\n",
      "Epoch 6/20\n",
      "95/95 [==============================] - 121s 1s/step - loss: 0.0580 - accuracy: 0.9829 - val_loss: 0.0360 - val_accuracy: 0.9935\n",
      "Epoch 7/20\n",
      "95/95 [==============================] - 121s 1s/step - loss: 0.0507 - accuracy: 0.9832 - val_loss: 0.0357 - val_accuracy: 0.9909\n",
      "Epoch 8/20\n",
      "95/95 [==============================] - 121s 1s/step - loss: 0.0523 - accuracy: 0.9842 - val_loss: 0.0337 - val_accuracy: 0.9909\n",
      "Epoch 9/20\n",
      "95/95 [==============================] - 120s 1s/step - loss: 0.0485 - accuracy: 0.9852 - val_loss: 0.0339 - val_accuracy: 0.9909\n",
      "Epoch 10/20\n",
      "95/95 [==============================] - 121s 1s/step - loss: 0.0423 - accuracy: 0.9888 - val_loss: 0.0302 - val_accuracy: 0.9935\n",
      "Epoch 11/20\n",
      "95/95 [==============================] - 121s 1s/step - loss: 0.0414 - accuracy: 0.9878 - val_loss: 0.0298 - val_accuracy: 0.9935\n",
      "Epoch 12/20\n",
      "95/95 [==============================] - 121s 1s/step - loss: 0.0393 - accuracy: 0.9888 - val_loss: 0.0347 - val_accuracy: 0.9896\n",
      "Epoch 13/20\n",
      "95/95 [==============================] - 144s 2s/step - loss: 0.0416 - accuracy: 0.9862 - val_loss: 0.0315 - val_accuracy: 0.9909\n",
      "Epoch 14/20\n",
      "95/95 [==============================] - 143s 2s/step - loss: 0.0448 - accuracy: 0.9865 - val_loss: 0.0301 - val_accuracy: 0.9935\n",
      "Epoch 15/20\n",
      "95/95 [==============================] - 143s 2s/step - loss: 0.0354 - accuracy: 0.9904 - val_loss: 0.0274 - val_accuracy: 0.9922\n",
      "Epoch 16/20\n",
      "95/95 [==============================] - 142s 1s/step - loss: 0.0393 - accuracy: 0.9881 - val_loss: 0.0276 - val_accuracy: 0.9935\n",
      "Epoch 17/20\n",
      "95/95 [==============================] - 142s 1s/step - loss: 0.0309 - accuracy: 0.9914 - val_loss: 0.0260 - val_accuracy: 0.9935\n",
      "Epoch 18/20\n",
      "95/95 [==============================] - 152s 2s/step - loss: 0.0290 - accuracy: 0.9924 - val_loss: 0.0284 - val_accuracy: 0.9922\n",
      "Epoch 19/20\n",
      "95/95 [==============================] - 157s 2s/step - loss: 0.0299 - accuracy: 0.9918 - val_loss: 0.0281 - val_accuracy: 0.9922\n",
      "Epoch 20/20\n",
      "95/95 [==============================] - 154s 2s/step - loss: 0.0246 - accuracy: 0.9927 - val_loss: 0.0281 - val_accuracy: 0.9922\n"
     ]
    }
   ],
   "source": [
    "print(\"[INFO] ttraining head...\")\n",
    "H=model.fit(aug.flow(trainX,trainy,batch_size=BS),\n",
    "           steps_per_epoch=len(trainX)//BS,\n",
    "           validation_data=(testX,testy),\n",
    "           validation_steps=len(testX)//BS,\n",
    "           epochs=EPOCHS)"
   ]
  },
  {
   "cell_type": "markdown",
   "id": "51b4bed0",
   "metadata": {},
   "source": [
    "* Testing the model :"
   ]
  },
  {
   "cell_type": "code",
   "execution_count": 15,
   "id": "c9f9e8fe",
   "metadata": {},
   "outputs": [
    {
     "name": "stdout",
     "output_type": "stream",
     "text": [
      "[INFO] evaluating network...\n"
     ]
    }
   ],
   "source": [
    "print(\"[INFO] evaluating network...\")\n",
    "predIdxs = model.predict(testX,batch_size=BS)"
   ]
  },
  {
   "cell_type": "code",
   "execution_count": 16,
   "id": "cdd68f45",
   "metadata": {},
   "outputs": [],
   "source": [
    "predIdxs=np.argmax(predIdxs,axis=1)"
   ]
  },
  {
   "cell_type": "code",
   "execution_count": 17,
   "id": "4c52056b",
   "metadata": {},
   "outputs": [
    {
     "name": "stdout",
     "output_type": "stream",
     "text": [
      "              precision    recall  f1-score   support\n",
      "\n",
      "   with_mask       0.99      0.99      0.99       383\n",
      "without_mask       0.99      0.99      0.99       384\n",
      "\n",
      "    accuracy                           0.99       767\n",
      "   macro avg       0.99      0.99      0.99       767\n",
      "weighted avg       0.99      0.99      0.99       767\n",
      "\n"
     ]
    }
   ],
   "source": [
    "print(classification_report(testy.argmax(axis=1),predIdxs,target_names=lb.classes_))"
   ]
  },
  {
   "cell_type": "markdown",
   "id": "9a34b9f0",
   "metadata": {},
   "source": [
    "* Nice results haa? :p ,and now let's save our  model"
   ]
  },
  {
   "cell_type": "code",
   "execution_count": 18,
   "id": "c36115f9",
   "metadata": {},
   "outputs": [
    {
     "name": "stdout",
     "output_type": "stream",
     "text": [
      "[INFO] saving mask detector model...\n"
     ]
    },
    {
     "name": "stderr",
     "output_type": "stream",
     "text": [
      "C:\\Users\\khaoula\\anaconda3\\lib\\site-packages\\keras\\engine\\functional.py:1410: CustomMaskWarning: Custom mask layers require a config and must override get_config. When loading, the custom mask layer must be passed to the custom_objects argument.\n",
      "  layer_config = serialize_layer_fn(layer)\n"
     ]
    }
   ],
   "source": [
    "print(\"[INFO] saving mask detector model...\")\n",
    "model.save(\"mask_detector.model\",save_format=\"h5\")"
   ]
  },
  {
   "cell_type": "markdown",
   "id": "f2bec9cf",
   "metadata": {},
   "source": [
    "* Plot the training loss and accuracy :"
   ]
  },
  {
   "cell_type": "code",
   "execution_count": 19,
   "id": "af1b0b33",
   "metadata": {},
   "outputs": [
    {
     "data": {
      "image/png": "[encoded data removed]",
      "text/plain": [
       "<Figure size 432x288 with 1 Axes>"
      ]
     },
     "metadata": {},
     "output_type": "display_data"
    }
   ],
   "source": [
    "N=EPOCHS\n",
    "plt.style.use(\"ggplot\")\n",
    "plt.figure()\n",
    "plt.plot(np.arange(0,N),H.history[\"loss\"],label=\"train_loss\")\n",
    "plt.plot(np.arange(0,N),H.history[\"val_loss\"],label=\"val_loss\")\n",
    "plt.plot(np.arange(0,N),H.history[\"accuracy\"],label=\"train_acc\")\n",
    "plt.plot(np.arange(0,N),H.history[\"val_accuracy\"],label=\"val_acc\")\n",
    "plt.title(\"Training Loss And Accuracy\")\n",
    "plt.xlabel('Epoch ')\n",
    "plt.ylabel(\"Loss/Accuracy\")\n",
    "plt.legend(loc=\"lower right\")\n",
    "plt.savefig(\"plot.png\")"
   ]
  },
  {
   "cell_type": "markdown",
   "id": "d9425784",
   "metadata": {},
   "source": [
    "# 6. Apply the model in camera :"
   ]
  },
  {
   "cell_type": "code",
   "execution_count": 20,
   "id": "44b0695b",
   "metadata": {},
   "outputs": [],
   "source": [
    "def detect_and_predict_mask(frame,faceNet,maskNet):\n",
    "    (h,w)=frame.shape[:2]\n",
    "    blob=cv2.dnn.blobFromImage(frame,1.0,(224,224),(104.0,177.0,123.0))\n",
    "    faceNet.setInput(blob)\n",
    "    detections=faceNet.forward()\n",
    "    print(detections.shape)\n",
    "    \n",
    "    faces=[]\n",
    "    locs=[]\n",
    "    preds=[]\n",
    "    for i in range(0,detections.shape[0]):\n",
    "      confidence=detections[0,0,i,2]\n",
    "      if confidence>=0.5:\n",
    "        box=detections[0,0,i,3:7]*np.array([w,h,w,h])\n",
    "        (startX,starty,endX,endy)=box.astype(\"int\")\n",
    "        (startX,starty)=(max(0,startX),max(0,starty))\n",
    "        (endX,endy)=(mmin(w-1,endX),min(h-1,endy))\n",
    "        face=frame[starty:endy,startX:endX]\n",
    "        face=cv2.cvtColor(face,cv2.COLOR_BGR2RGB)\n",
    "        face=cv2.resize(face,(224,224))\n",
    "        face=img_to_array(face)\n",
    "        face=preprocess_input(face)\n",
    "        faces.append(face)\n",
    "        locs.append((startX, starty, endX, endy))\n",
    "    if len(faces) > 0:\n",
    "        faces = np.array(faces, dtype=\"float32\")\n",
    "        preds = maskNet.predict(faces, batch_size=32)\n",
    "    return (locs, preds)\n",
    "        "
   ]
  },
  {
   "cell_type": "markdown",
   "id": "5f99699b",
   "metadata": {},
   "source": [
    "* load our serialized face detector model from disk"
   ]
  },
  {
   "cell_type": "code",
   "execution_count": 21,
   "id": "e976b17c",
   "metadata": {},
   "outputs": [],
   "source": [
    "prototxtPath = r\"C:/Users/khaoula/Desktop/Face Mask Detection/face_detector/deploy.prototxt\"\n",
    "weightsPath = r\"C:/Users/khaoula/Desktop/Face Mask Detection/face_detector/res10_300x300_ssd_iter_140000.caffemodel\"\n",
    "faceNet = cv2.dnn.readNet(prototxtPath, weightsPath)"
   ]
  },
  {
   "cell_type": "markdown",
   "id": "f64c3c47",
   "metadata": {},
   "source": [
    "* Load the face mask detector model from disk :"
   ]
  },
  {
   "cell_type": "code",
   "execution_count": 22,
   "id": "48cb57a1",
   "metadata": {},
   "outputs": [],
   "source": [
    "maskNet = load_model(\"mask_detector.model\")"
   ]
  },
  {
   "cell_type": "markdown",
   "id": "02052629",
   "metadata": {},
   "source": [
    "* Initialize the video stream"
   ]
  },
  {
   "cell_type": "code",
   "execution_count": 1,
   "id": "0b514b34",
   "metadata": {},
   "outputs": [
    {
     "name": "stdout",
     "output_type": "stream",
     "text": [
      "Requirement already satisfied: imutils in c:\\users\\khaoula\\anaconda3\\lib\\site-packages (0.5.3)\n",
      "Collecting imutils\n",
      "  Downloading imutils-0.5.4.tar.gz (17 kB)\n",
      "Building wheels for collected packages: imutils\n",
      "  Building wheel for imutils (setup.py): started\n",
      "  Building wheel for imutils (setup.py): finished with status 'done'\n",
      "  Created wheel for imutils: filename=imutils-0.5.4-py3-none-any.whl size=25860 sha256=c8c33ce3e121a15bbcaebbfd0ba61e91ef0d86cae9ee86edb552baf93207ee80\n",
      "  Stored in directory: c:\\users\\khaoula\\appdata\\local\\pip\\cache\\wheels\\59\\1b\\52\\0dea905f8278d5514dc4d0be5e251967f8681670cadd3dca89\n",
      "Successfully built imutils\n",
      "Installing collected packages: imutils\n",
      "  Attempting uninstall: imutils\n",
      "    Found existing installation: imutils 0.5.3\n",
      "    Uninstalling imutils-0.5.3:\n",
      "      Successfully uninstalled imutils-0.5.3\n",
      "Successfully installed imutils-0.5.4\n",
      "Note: you may need to restart the kernel to use updated packages.\n"
     ]
    }
   ],
   "source": [
    "pip install --upgrade imutils"
   ]
  },
  {
   "cell_type": "code",
   "execution_count": null,
   "id": "df4c3284",
   "metadata": {},
   "outputs": [],
   "source": [
    "print(\"[INFO] starting video stream...\")\n",
    "from imutils.video import VideoStream\n",
    "vs = VideoStream().start()\n",
    "while True:\n",
    "    frame = vs.read()\n",
    "    frame = imutils.resize(frame, width=400)\n",
    "    (locs, preds) = detect_and_predict_mask(frame, faceNet, maskNet)\n",
    "    \n",
    "    for (box, pred) in zip(locs, preds):\n",
    "        (startX, startY, endX, endY) = box\n",
    "        (mask, withoutMask) = pred\n",
    "        label = \"Mask\" if mask > withoutMask else \"No Mask\"\n",
    "        color = (0, 255, 0) if label == \"Mask\" else (0, 0, 255)\n",
    "        label = \"{}: {:.2f}%\".format(label, max(mask, withoutMask) * 100)\n",
    "        cv2.putText(frame, label, (startX, startY - 10),\n",
    "            cv2.FONT_HERSHEY_SIMPLEX, 0.45, color, 2)\n",
    "        cv2.rectangle(frame, (startX, startY), (endX, endY), color, 2)\n",
    "    cv2.imshow(\"Frame\", frame)\n",
    "    key = cv2.waitKey(1) & 0xFF\n",
    "    if key == ord(\"q\"):\n",
    "            break\n",
    "cv2.destroyAllWindows()\n",
    "vs.stop()"
   ]
  }
 ],
 "metadata": {
  "kernelspec": {
   "display_name": "Python 3",
   "language": "python",
   "name": "python3"
  },
  "language_info": {
   "codemirror_mode": {
    "name": "ipython",
    "version": 3
   },
   "file_extension": ".py",
   "mimetype": "text/x-python",
   "name": "python",
   "nbconvert_exporter": "python",
   "pygments_lexer": "ipython3",
   "version": "3.8.8"
  }
 },
 "nbformat": 4,
 "nbformat_minor": 5
}
